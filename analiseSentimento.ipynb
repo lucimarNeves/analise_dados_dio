{
  "nbformat": 4,
  "nbformat_minor": 0,
  "metadata": {
    "colab": {
      "name": "analiseSentimento.ipynb",
      "provenance": [],
      "authorship_tag": "ABX9TyNutQud6Kwp8fbkU9/jlkqv",
      "include_colab_link": true
    },
    "kernelspec": {
      "name": "python3",
      "display_name": "Python 3"
    },
    "language_info": {
      "name": "python"
    }
  },
  "cells": [
    {
      "cell_type": "markdown",
      "metadata": {
        "id": "view-in-github",
        "colab_type": "text"
      },
      "source": [
        "<a href=\"https://colab.research.google.com/github/lucimarNeves/analise_dados_dio/blob/main/analiseSentimento.ipynb\" target=\"_parent\"><img src=\"https://colab.research.google.com/assets/colab-badge.svg\" alt=\"Open In Colab\"/></a>"
      ]
    },
    {
      "cell_type": "code",
      "metadata": {
        "id": "9aHs5Ku1xGCJ"
      },
      "source": [
        "import tweepy as tw\n",
        "import pandas as pd\n",
        "import numpy as np\n",
        "import re"
      ],
      "execution_count": null,
      "outputs": []
    },
    {
      "cell_type": "code",
      "metadata": {
        "id": "dNxacxd7xPRq"
      },
      "source": [
        "import matplotlib.pyplot as plt"
      ],
      "execution_count": null,
      "outputs": []
    },
    {
      "cell_type": "code",
      "metadata": {
        "id": "UJT1MnpnxQ_j"
      },
      "source": [
        "from textblob import TextBlob"
      ],
      "execution_count": null,
      "outputs": []
    },
    {
      "cell_type": "code",
      "metadata": {
        "id": "SmTa7v-wxTdC"
      },
      "source": [
        "from tweepy import Cursor"
      ],
      "execution_count": null,
      "outputs": []
    },
    {
      "cell_type": "code",
      "metadata": {
        "id": "AajmEIO3xVRr"
      },
      "source": [
        "ACCESS_TOKEN = \"\"\n",
        "ACCESS_TOKEN_SECRET = \"\"\n",
        "CONSUMER_KEY = \"\"\n",
        "CONSUMER_SECRET = \"\""
      ],
      "execution_count": null,
      "outputs": []
    },
    {
      "cell_type": "code",
      "metadata": {
        "id": "i_p2MohLxXYL"
      },
      "source": [
        "auth = tw.OAuthHandler(CONSUMER_KEY,CONSUMER_SECRET)\n",
        "auth.set_access_token(ACCESS_TOKEN,ACCESS_TOKEN_SECRET)\n",
        "\n",
        "api = tw.API(auth, wait_on_rate_limit=True)"
      ],
      "execution_count": null,
      "outputs": []
    },
    {
      "cell_type": "code",
      "metadata": {
        "id": "d_4Ix5bzxaK-"
      },
      "source": [
        "if(not api):\n",
        "    print(\"Authenticcation failed!\")\n",
        "    sys.exit(-1)"
      ],
      "execution_count": null,
      "outputs": []
    },
    {
      "cell_type": "code",
      "metadata": {
        "id": "UFbMIKUIxdVU"
      },
      "source": [
        "BRAZIL_WOE_ID = 23424768\n",
        "woeid = BRAZIL_WOE_ID"
      ],
      "execution_count": null,
      "outputs": []
    },
    {
      "cell_type": "code",
      "metadata": {
        "id": "fHsYZGIbxeL6"
      },
      "source": [
        "trends = api.trends_place(id = woeid, exclude = \"hashtags\")"
      ],
      "execution_count": null,
      "outputs": []
    },
    {
      "cell_type": "code",
      "metadata": {
        "id": "mw-chZ-Vxhhb"
      },
      "source": [
        "searchString = ['alcool', 'gasolina']"
      ],
      "execution_count": null,
      "outputs": []
    },
    {
      "cell_type": "code",
      "metadata": {
        "id": "zcydMq0bxioV"
      },
      "source": [
        "tweets = tw.Cursor(api.search, q = searchString,lang='pt', since='2021-09-24', tweet_mode='extended').items(100)\n",
        "all_tweets = [tweet.full_text for tweet in tweets]"
      ],
      "execution_count": null,
      "outputs": []
    },
    {
      "cell_type": "code",
      "metadata": {
        "id": "xWutQBMrxksj"
      },
      "source": [
        "print(all_tweets)"
      ],
      "execution_count": null,
      "outputs": []
    },
    {
      "cell_type": "code",
      "metadata": {
        "id": "0iyznh2axowy"
      },
      "source": [
        "dados = pd.DataFrame(all_tweets, columns=[\"Tweets\" ])"
      ],
      "execution_count": null,
      "outputs": []
    },
    {
      "cell_type": "code",
      "metadata": {
        "id": "16rwfwwsxpqm"
      },
      "source": [
        "dados.head()"
      ],
      "execution_count": null,
      "outputs": []
    },
    {
      "cell_type": "code",
      "metadata": {
        "id": "4iwuRZaTxs2O"
      },
      "source": [
        "dados.drop_duplicates(inplace = True)"
      ],
      "execution_count": null,
      "outputs": []
    },
    {
      "cell_type": "code",
      "metadata": {
        "id": "HKhidyGwxtHm"
      },
      "source": [
        "dados['Tweets'].value_counts(normalize = True)"
      ],
      "execution_count": null,
      "outputs": []
    },
    {
      "cell_type": "markdown",
      "metadata": {
        "id": "VCsWyIRExyLt"
      },
      "source": [
        "##Analise de sentimentos dados recentes na home_timeline"
      ]
    },
    {
      "cell_type": "code",
      "metadata": {
        "id": "KOkCQ8lPxtNn"
      },
      "source": [
        " tweets = api.home_timeline(count=200)"
      ],
      "execution_count": null,
      "outputs": []
    },
    {
      "cell_type": "code",
      "metadata": {
        "id": "F8rTXDS1x2zw"
      },
      "source": [
        "class TweetAnalyzer():\n",
        "    \n",
        "    def clean_tweet(self, tweet):\n",
        "          return ' '.join(re.sub(\"(@[A-Za-z0-9]+)|([^0-9A-Za-z \\t])|(\\w+:\\/\\/\\S+)\", \" \", tweet).split())\n",
        "\n",
        "    def analyze_sentiment(self, tweet):\n",
        "        analysis = TextBlob(self.clean_tweet(tweet))\n",
        "\n",
        "        if analysis.sentiment.polarity > 0:\n",
        "            return 1\n",
        "        elif analysis.sentiment.polarity == 0:\n",
        "            return 0\n",
        "        else:\n",
        "            return -1\n",
        "\n",
        "    def tweets_to_data_frame(self, tweets):\n",
        "        \n",
        "        dados = pd.DataFrame(data=[tweet.text for tweet in tweets], columns=['tweets'])\n",
        "\n",
        "        \n",
        "        dados['len'] = np.array([len(tweet.text) for tweet in tweets])\n",
        "        dados['date'] = np.array([tweet.created_at for tweet in tweets])\n",
        "        dados['source'] = np.array([tweet.source for tweet in tweets])\n",
        "        dados['likes'] = np.array([tweet.favorite_count for tweet in tweets])\n",
        "        dados['retweets'] = np.array([tweet.retweet_count for tweet in tweets])\n",
        "        dados['sentiment'] = np.array([tweet_analyzer.analyze_sentiment(tweet) for tweet in dados['tweets']])\n",
        "        \n",
        "        return dados"
      ],
      "execution_count": null,
      "outputs": []
    },
    {
      "cell_type": "code",
      "metadata": {
        "id": "4szePAxxx80Y"
      },
      "source": [
        "tweet_analyzer = TweetAnalyzer()"
      ],
      "execution_count": null,
      "outputs": []
    },
    {
      "cell_type": "code",
      "metadata": {
        "id": "IiPVdFVax-mD"
      },
      "source": [
        "dados = tweet_analyzer.tweets_to_data_frame(tweets)"
      ],
      "execution_count": null,
      "outputs": []
    },
    {
      "cell_type": "markdown",
      "metadata": {
        "id": "uNxlnPYLx_1d"
      },
      "source": [
        "##Análise de sentimentos\n",
        "\n",
        "### 0 - sentimento negativo\n",
        "### 1 - sentimento positivo\n",
        "#### -1 - sentimento neutro\n"
      ]
    },
    {
      "cell_type": "code",
      "metadata": {
        "id": "U5XBS0mYx25M"
      },
      "source": [
        "dados.head()"
      ],
      "execution_count": null,
      "outputs": []
    },
    {
      "cell_type": "code",
      "metadata": {
        "id": "p5bRDi3xx2-4"
      },
      "source": [
        "sns.set()\n",
        "ax = dados['sentiment'].value_counts().plot.bar()\n",
        "ax.set_ylabel('Quantidade')\n",
        "ax.set_xlabel('Sentiment')"
      ],
      "execution_count": null,
      "outputs": []
    },
    {
      "cell_type": "code",
      "metadata": {
        "id": "bzlM52rNx3D5"
      },
      "source": [
        "dados = tweet_analyzer.tweets_to_data_frame(tweets)\n",
        "dados['sentiment'] = np.array([tweet_analyzer.analyze_sentiment(tweet) for tweet in dados['tweets']])"
      ],
      "execution_count": null,
      "outputs": []
    },
    {
      "cell_type": "code",
      "metadata": {
        "id": "rL4MGW0ex3Ja"
      },
      "source": [
        "print(dados.head(10))"
      ],
      "execution_count": null,
      "outputs": []
    },
    {
      "cell_type": "code",
      "metadata": {
        "id": "UumOoshyxtTR"
      },
      "source": [
        "import seaborn as sns\n",
        "import matplotlib as plt"
      ],
      "execution_count": null,
      "outputs": []
    },
    {
      "cell_type": "code",
      "metadata": {
        "id": "d5hWIJM7yQ2u"
      },
      "source": [
        "sns.set()\n",
        "ax = dados['retweets'].value_counts().plot.bar()\n",
        "ax.set_title('Total de retweets ')\n",
        "ax.set_ylabel('Quantidade')\n",
        "ax.set_xlabel('Retweets')"
      ],
      "execution_count": null,
      "outputs": []
    },
    {
      "cell_type": "markdown",
      "metadata": {
        "id": "UMGbXzWIyU3N"
      },
      "source": [
        "###LIKES POR DATA\n"
      ]
    },
    {
      "cell_type": "code",
      "metadata": {
        "id": "QEHEBhg0yQ75"
      },
      "source": [
        "sns.set()\n",
        "time_likes = pd.Series(data=dados['len'].values, index=dados['date'])\n",
        "time_likes.plot(figsize=(16, 4), color='b')\n"
      ],
      "execution_count": null,
      "outputs": []
    },
    {
      "cell_type": "markdown",
      "metadata": {
        "id": "Cjubb37qygSK"
      },
      "source": [
        "#### RETWEETS POR DATA"
      ]
    },
    {
      "cell_type": "code",
      "metadata": {
        "id": "bXVUT_N2yRAa"
      },
      "source": [
        "time_retweets = pd.Series(data=dados['retweets'].values, index=dados['date'])\n",
        "time_retweets.plot(figsize=(16, 4), color='b')"
      ],
      "execution_count": null,
      "outputs": []
    },
    {
      "cell_type": "code",
      "metadata": {
        "id": "x6SwQlaJyRFf"
      },
      "source": [
        ""
      ],
      "execution_count": null,
      "outputs": []
    },
    {
      "cell_type": "code",
      "metadata": {
        "id": "Q_iod0AUyRKA"
      },
      "source": [
        ""
      ],
      "execution_count": null,
      "outputs": []
    }
  ]
}