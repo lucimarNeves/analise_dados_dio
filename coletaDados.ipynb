{
  "nbformat": 4,
  "nbformat_minor": 0,
  "metadata": {
    "colab": {
      "name": "coletaDados.ipynb",
      "provenance": [],
      "authorship_tag": "ABX9TyPBxJJYeSynJNSsDMMgwEnF",
      "include_colab_link": true
    },
    "kernelspec": {
      "name": "python3",
      "display_name": "Python 3"
    },
    "language_info": {
      "name": "python"
    }
  },
  "cells": [
    {
      "cell_type": "markdown",
      "metadata": {
        "id": "view-in-github",
        "colab_type": "text"
      },
      "source": [
        "<a href=\"https://colab.research.google.com/github/lucimarNeves/analise_dados_dio/blob/main/coletaDados.ipynb\" target=\"_parent\"><img src=\"https://colab.research.google.com/assets/colab-badge.svg\" alt=\"Open In Colab\"/></a>"
      ]
    },
    {
      "cell_type": "code",
      "metadata": {
        "id": "JI4kJd7XvyNV"
      },
      "source": [
        "import tweepy as tw\n",
        "import pandas as pd\n",
        "import numpy as np"
      ],
      "execution_count": null,
      "outputs": []
    },
    {
      "cell_type": "code",
      "metadata": {
        "id": "orcQa0kiwAkP"
      },
      "source": [
        "import re"
      ],
      "execution_count": null,
      "outputs": []
    },
    {
      "cell_type": "code",
      "metadata": {
        "id": "7YRS_-2nwDYM"
      },
      "source": [
        "from tweepy import Cursor"
      ],
      "execution_count": null,
      "outputs": []
    },
    {
      "cell_type": "code",
      "metadata": {
        "id": "FaizeDpVwGHC"
      },
      "source": [
        "ACCESS_TOKEN = \"\"\n",
        "ACCESS_TOKEN_SECRET = \"\"\n",
        "CONSUMER_KEY = \"\"\n",
        "CONSUMER_SECRET = \"\""
      ],
      "execution_count": null,
      "outputs": []
    },
    {
      "cell_type": "code",
      "metadata": {
        "id": "egvMngcBwHDh"
      },
      "source": [
        "auth = tw.OAuthHandler(CONSUMER_KEY,CONSUMER_SECRET)\n",
        "auth.set_access_token(ACCESS_TOKEN,ACCESS_TOKEN_SECRET)\n",
        "\n",
        "api = tw.API(auth, wait_on_rate_limit=True)"
      ],
      "execution_count": null,
      "outputs": []
    },
    {
      "cell_type": "code",
      "metadata": {
        "id": "lEDeFs8WwKFB"
      },
      "source": [
        "if(not api):\n",
        "    print(\"Authenticcation failed!\")\n",
        "    sys.exit(-1)"
      ],
      "execution_count": null,
      "outputs": []
    },
    {
      "cell_type": "code",
      "metadata": {
        "id": "LWS9jpo7wLDr"
      },
      "source": [
        "BRAZIL_WOE_ID = 23424768\n",
        "woeid = BRAZIL_WOE_ID"
      ],
      "execution_count": null,
      "outputs": []
    },
    {
      "cell_type": "code",
      "metadata": {
        "id": "BGp3aO_vwOOp"
      },
      "source": [
        "trends = api.trends_place(id = woeid, exclude = \"hashtags\")"
      ],
      "execution_count": null,
      "outputs": []
    },
    {
      "cell_type": "code",
      "metadata": {
        "id": "JBlaIA7pwSxa"
      },
      "source": [
        "print(\"As principais tendências para o local são :\")"
      ],
      "execution_count": null,
      "outputs": []
    },
    {
      "cell_type": "markdown",
      "metadata": {
        "id": "3CrX-sjNwVTN"
      },
      "source": [
        "##Exibindo os tendência do momento"
      ]
    },
    {
      "cell_type": "code",
      "metadata": {
        "id": "fT6-nA_zwWQq"
      },
      "source": [
        "for value in trends:\n",
        "    for trend in value['trends']:\n",
        "        print(trend['name'])"
      ],
      "execution_count": null,
      "outputs": []
    },
    {
      "cell_type": "code",
      "metadata": {
        "id": "4l-W-N0qwbgh"
      },
      "source": [
        "#Escolhendo um assunto específico para amostragem de dados"
      ],
      "execution_count": null,
      "outputs": []
    },
    {
      "cell_type": "code",
      "metadata": {
        "id": "ZM6fAz3ywf2B"
      },
      "source": [
        "searchString = ['alcool', 'gasolina']"
      ],
      "execution_count": null,
      "outputs": []
    },
    {
      "cell_type": "code",
      "metadata": {
        "id": "oFY2tgMHwp5t"
      },
      "source": [
        "tweets = tw.Cursor(api.search, q = searchString,lang='pt', since='2021-09-24', tweet_mode='extended').items(100)\n",
        "all_tweets = [tweet.full_text for tweet in tweets]"
      ],
      "execution_count": null,
      "outputs": []
    },
    {
      "cell_type": "code",
      "metadata": {
        "id": "mZvYmaX7wsxv"
      },
      "source": [
        "df = pd.DataFrame(all_tweets, columns=[\"Tweets\" ])"
      ],
      "execution_count": null,
      "outputs": []
    },
    {
      "cell_type": "code",
      "metadata": {
        "id": "eI9wOHGrwtzf"
      },
      "source": [
        " df"
      ],
      "execution_count": null,
      "outputs": []
    },
    {
      "cell_type": "code",
      "metadata": {
        "id": "66AG_4lJww0Y"
      },
      "source": [
        "df.to_csv(\"tweets.csv\")"
      ],
      "execution_count": null,
      "outputs": []
    }
  ]
}